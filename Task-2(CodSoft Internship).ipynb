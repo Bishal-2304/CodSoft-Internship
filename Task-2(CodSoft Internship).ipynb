{
 "cells": [
  {
   "cell_type": "code",
   "execution_count": 3,
   "id": "060722d3-dedc-4f27-a6fb-76c978ab785e",
   "metadata": {},
   "outputs": [
    {
     "name": "stdout",
     "output_type": "stream",
     "text": [
      "Simple Calculator\n",
      "----------------\n",
      "Operations:\n",
      "1. Addition (+)\n",
      "2. Subtraction (-)\n",
      "3. Multiplication (*)\n",
      "4. Division (/)\n",
      "----------------\n"
     ]
    },
    {
     "name": "stdin",
     "output_type": "stream",
     "text": [
      "Enter first number:  10\n",
      "Enter second number:  20\n",
      "Enter operation (+, -, *, /):  -\n"
     ]
    },
    {
     "name": "stdout",
     "output_type": "stream",
     "text": [
      "Result: 10.0 - 20.0 = -10.0\n"
     ]
    }
   ],
   "source": [
    "def simple_calculator():\n",
    "    print(\"Simple Calculator\")\n",
    "    print(\"----------------\")\n",
    "    print(\"Operations:\")\n",
    "    print(\"1. Addition (+)\")\n",
    "    print(\"2. Subtraction (-)\")\n",
    "    print(\"3. Multiplication (*)\")\n",
    "    print(\"4. Division (/)\")\n",
    "    print(\"----------------\")\n",
    "    \n",
    "    try:\n",
    "        num1 = float(input(\"Enter first number: \"))\n",
    "        num2 = float(input(\"Enter second number: \"))\n",
    "        operation = input(\"Enter operation (+, -, *, /): \").strip()\n",
    "        \n",
    "\n",
    "        if operation == '+':\n",
    "            result = num1 + num2\n",
    "            print(f\"Result: {num1} + {num2} = {result}\")\n",
    "        elif operation == '-':\n",
    "            result = num1 - num2\n",
    "            print(f\"Result: {num1} - {num2} = {result}\")\n",
    "        elif operation == '*':\n",
    "            result = num1 * num2\n",
    "            print(f\"Result: {num1} * {num2} = {result}\")\n",
    "        elif operation == '/':\n",
    "            if num2 == 0:\n",
    "                print(\"Error: Division by zero is not allowed!\")\n",
    "            else:\n",
    "                result = num1 / num2\n",
    "                print(f\"Result: {num1} / {num2} = {result}\")\n",
    "        else:\n",
    "            print(\"Invalid operation! Please choose from +, -, *, /\")\n",
    "    \n",
    "    except ValueError:\n",
    "        print(\"Error: Please enter valid numbers!\")\n",
    "    except Exception as e:\n",
    "        print(f\"An error occurred: {e}\")\n",
    "\n",
    "simple_calculator()"
   ]
  },
  {
   "cell_type": "code",
   "execution_count": null,
   "id": "5396aee6-5ea4-4147-96e1-86b564e56d14",
   "metadata": {},
   "outputs": [],
   "source": []
  }
 ],
 "metadata": {
  "kernelspec": {
   "display_name": "Python [conda env:base] *",
   "language": "python",
   "name": "conda-base-py"
  },
  "language_info": {
   "codemirror_mode": {
    "name": "ipython",
    "version": 3
   },
   "file_extension": ".py",
   "mimetype": "text/x-python",
   "name": "python",
   "nbconvert_exporter": "python",
   "pygments_lexer": "ipython3",
   "version": "3.12.7"
  }
 },
 "nbformat": 4,
 "nbformat_minor": 5
}
