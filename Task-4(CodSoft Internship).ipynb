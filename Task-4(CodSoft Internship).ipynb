{
 "cells": [
  {
   "cell_type": "code",
   "execution_count": 1,
   "id": "0d916e3e-2f12-4e80-9dbd-934648a8ce25",
   "metadata": {},
   "outputs": [
    {
     "name": "stdout",
     "output_type": "stream",
     "text": [
      "Welcome to Rock, Paper, Scissors!\n",
      "Game Rules:\n",
      "- Rock beats Scissors\n",
      "- Scissors beat Paper\n",
      "- Paper beats Rock\n",
      "--------------------------------\n",
      "\n",
      "Choose one:\n",
      "1. Rock\n",
      "2. Paper\n",
      "3. Scissors\n"
     ]
    },
    {
     "name": "stdin",
     "output_type": "stream",
     "text": [
      "Enter your choice (1-3):  3\n"
     ]
    },
    {
     "name": "stdout",
     "output_type": "stream",
     "text": [
      "\n",
      "You chose: Scissors\n",
      "Computer chose: Rock\n",
      "Rock beats Scissors. Computer wins!\n",
      "\n",
      "Current Scores - You: 0 | Computer: 1\n"
     ]
    },
    {
     "name": "stdin",
     "output_type": "stream",
     "text": [
      "\n",
      "Do you want to play again? (yes/no):  2\n"
     ]
    },
    {
     "name": "stdout",
     "output_type": "stream",
     "text": [
      "\n",
      "Final Scores:\n",
      "You: 0\n",
      "Computer: 1\n",
      "Computer won the game. Better luck next time!\n",
      "\n",
      "Thanks for playing!\n"
     ]
    }
   ],
   "source": [
    "import random\n",
    "\n",
    "def play_game():\n",
    "    user_score = 0\n",
    "    computer_score = 0\n",
    "    \n",
    "    print(\"Welcome to Rock, Paper, Scissors!\")\n",
    "    print(\"Game Rules:\")\n",
    "    print(\"- Rock beats Scissors\")\n",
    "    print(\"- Scissors beat Paper\")\n",
    "    print(\"- Paper beats Rock\")\n",
    "    print(\"--------------------------------\")\n",
    "    \n",
    "    while True:\n",
    "        print(\"\\nChoose one:\")\n",
    "        print(\"1. Rock\")\n",
    "        print(\"2. Paper\")\n",
    "        print(\"3. Scissors\")\n",
    "        \n",
    "        while True:\n",
    "            try:\n",
    "                user_choice = int(input(\"Enter your choice (1-3): \"))\n",
    "                if 1 <= user_choice <= 3:\n",
    "                    break\n",
    "                else:\n",
    "                    print(\"Please enter a number between 1 and 3.\")\n",
    "            except ValueError:\n",
    "                print(\"Invalid input. Please enter a number.\")\n",
    "        \n",
    "        choices = {1: \"Rock\", 2: \"Paper\", 3: \"Scissors\"}\n",
    "        user_choice_name = choices[user_choice]\n",
    "        \n",
    "        computer_choice = random.randint(1, 3)\n",
    "        computer_choice_name = choices[computer_choice]\n",
    "        \n",
    "        print(f\"\\nYou chose: {user_choice_name}\")\n",
    "        print(f\"Computer chose: {computer_choice_name}\")\n",
    "        \n",
    "        if user_choice == computer_choice:\n",
    "            print(\"It's a tie!\")\n",
    "        elif (user_choice == 1 and computer_choice == 3) or \\\n",
    "             (user_choice == 2 and computer_choice == 1) or \\\n",
    "             (user_choice == 3 and computer_choice == 2):\n",
    "            print(f\"{user_choice_name} beats {computer_choice_name}. You win!\")\n",
    "            user_score += 1\n",
    "        else:\n",
    "            print(f\"{computer_choice_name} beats {user_choice_name}. Computer wins!\")\n",
    "            computer_score += 1\n",
    "        \n",
    "        print(f\"\\nCurrent Scores - You: {user_score} | Computer: {computer_score}\")\n",
    "        \n",
    "        play_again = input(\"\\nDo you want to play again? (yes/no): \").lower()\n",
    "        if play_again != 'yes':\n",
    "            print(\"\\nFinal Scores:\")\n",
    "            print(f\"You: {user_score}\")\n",
    "            print(f\"Computer: {computer_score}\")\n",
    "            if user_score > computer_score:\n",
    "                print(\"Congratulations! You won the game!\")\n",
    "            elif user_score < computer_score:\n",
    "                print(\"Computer won the game. Better luck next time!\")\n",
    "            else:\n",
    "                print(\"The game ended in a tie!\")\n",
    "            print(\"\\nThanks for playing!\")\n",
    "            break\n",
    "\n",
    "play_game()"
   ]
  },
  {
   "cell_type": "code",
   "execution_count": null,
   "id": "3d1575bd-5761-4edf-bfed-dfd5a7f5b35c",
   "metadata": {},
   "outputs": [],
   "source": []
  }
 ],
 "metadata": {
  "kernelspec": {
   "display_name": "Python [conda env:base] *",
   "language": "python",
   "name": "conda-base-py"
  },
  "language_info": {
   "codemirror_mode": {
    "name": "ipython",
    "version": 3
   },
   "file_extension": ".py",
   "mimetype": "text/x-python",
   "name": "python",
   "nbconvert_exporter": "python",
   "pygments_lexer": "ipython3",
   "version": "3.12.7"
  }
 },
 "nbformat": 4,
 "nbformat_minor": 5
}
