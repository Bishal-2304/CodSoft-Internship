{
 "cells": [
  {
   "cell_type": "code",
   "execution_count": null,
   "id": "0d916e3e-2f12-4e80-9dbd-934648a8ce25",
   "metadata": {},
   "outputs": [],
   "source": []
  }
 ],
 "metadata": {
  "kernelspec": {
   "display_name": "",
   "name": ""
  },
  "language_info": {
   "name": ""
  }
 },
 "nbformat": 4,
 "nbformat_minor": 5
}
