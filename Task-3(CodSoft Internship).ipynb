{
 "cells": [
  {
   "cell_type": "code",
   "execution_count": null,
   "id": "105ff524-a351-4d19-ab94-10a29a263698",
   "metadata": {},
   "outputs": [
    {
     "name": "stdout",
     "output_type": "stream",
     "text": [
      "Password Generator\n",
      "------------------\n"
     ]
    }
   ],
   "source": [
    "import random\n",
    "import string\n",
    "\n",
    "def generate_password():\n",
    "    print(\"Password Generator\")\n",
    "    print(\"------------------\")\n",
    "    \n",
    "    try:\n",
    "        length = int(input(\"Enter desired password length (6-20): \"))\n",
    "        \n",
    "        if length < 6 or length > 20:\n",
    "            print(\"Password length should be between 6 and 20 characters.\")\n",
    "            return\n",
    "        \n",
    "        lowercase = string.ascii_lowercase\n",
    "        uppercase = string.ascii_uppercase\n",
    "        digits = string.digits\n",
    "        symbols = string.punctuation\n",
    "        \n",
    "        all_chars = lowercase + uppercase + digits + symbols\n",
    "        \n",
    "        password = [\n",
    "            random.choice(lowercase),\n",
    "            random.choice(uppercase),\n",
    "            random.choice(digits),\n",
    "            random.choice(symbols)\n",
    "        ]\n",
    "        \n",
    "        password.extend(random.choice(all_chars) for _ in range(length - 4))\n",
    "        \n",
    "        random.shuffle(password)\n",
    "        \n",
    "        password = ''.join(password)\n",
    "        \n",
    "        print(\"\\nGenerated Password:\")\n",
    "        print(\"------------------\")\n",
    "        print(password)\n",
    "        print(\"\\nNote: Make sure to store this password securely!\")\n",
    "    \n",
    "    except ValueError:\n",
    "        print(\"Please enter a valid number for password length.\")\n",
    "\n",
    "generate_password()"
   ]
  },
  {
   "cell_type": "code",
   "execution_count": null,
   "id": "8652d3bc-ce5f-4807-aca9-bfcc051fbcfa",
   "metadata": {},
   "outputs": [],
   "source": []
  }
 ],
 "metadata": {
  "kernelspec": {
   "display_name": "Python [conda env:base] *",
   "language": "python",
   "name": "conda-base-py"
  },
  "language_info": {
   "codemirror_mode": {
    "name": "ipython",
    "version": 3
   },
   "file_extension": ".py",
   "mimetype": "text/x-python",
   "name": "python",
   "nbconvert_exporter": "python",
   "pygments_lexer": "ipython3",
   "version": "3.12.7"
  }
 },
 "nbformat": 4,
 "nbformat_minor": 5
}
